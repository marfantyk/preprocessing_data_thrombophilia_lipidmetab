{
 "cells": [
  {
   "attachments": {},
   "cell_type": "markdown",
   "metadata": {},
   "source": [
    "# Notebook to prepare data for Just-DNA-Seq modules"
   ]
  },
  {
   "attachments": {},
   "cell_type": "markdown",
   "metadata": {},
   "source": [
    "The purpose of this notebook to parse data provided by curator (presumably will work with all further data if it remains the same format)"
   ]
  },
  {
   "cell_type": "code",
   "execution_count": 1,
   "metadata": {},
   "outputs": [],
   "source": [
    "import polars as pl\n",
    "from pathlib import *\n",
    "import sqlite3"
   ]
  },
  {
   "attachments": {},
   "cell_type": "markdown",
   "metadata": {},
   "source": [
    "### Setting up paths"
   ]
  },
  {
   "cell_type": "code",
   "execution_count": 11,
   "metadata": {},
   "outputs": [],
   "source": [
    "base = Path(\".\")\n",
    "data = base / \"data\"\n",
    "input = data / \"input\"\n",
    "output = data / \"output\"\n",
    "table_name = [ 'rsids', 'studies', 'weight']"
   ]
  },
  {
   "attachments": {},
   "cell_type": "markdown",
   "metadata": {},
   "source": [
    "Variables to change for different modules:"
   ]
  },
  {
   "cell_type": "code",
   "execution_count": 12,
   "metadata": {},
   "outputs": [],
   "source": [
    "sqlite_db_name = \"lipid_metabolism.sqlite\"\n",
    "module_name = 'lipidmetabolism'\n",
    "module_input = input / module_name"
   ]
  },
  {
   "attachments": {},
   "cell_type": "markdown",
   "metadata": {},
   "source": [
    "Getting names of the files in the input directory:"
   ]
  },
  {
   "cell_type": "code",
   "execution_count": 5,
   "metadata": {},
   "outputs": [
    {
     "name": "stdout",
     "output_type": "stream",
     "text": [
      "[WindowsPath('data/input/lipidmetabolism/lipid_metabolism_rsids.tsv'), WindowsPath('data/input/lipidmetabolism/lipid_metabolism_studies.tsv'), WindowsPath('data/input/lipidmetabolism/lipid_metabolism_weights.tsv')]\n"
     ]
    }
   ],
   "source": [
    "files = []\n",
    "\n",
    "for file in module_input.iterdir():\n",
    "    if file.is_file():\n",
    "        files.append(file)\n",
    "\n",
    "print(files)"
   ]
  },
  {
   "attachments": {},
   "cell_type": "markdown",
   "metadata": {},
   "source": [
    "Preparing tables for sqlite db with each tsv file"
   ]
  },
  {
   "cell_type": "code",
   "execution_count": 6,
   "metadata": {},
   "outputs": [],
   "source": [
    "db = []\n",
    "\n",
    "for r in range(3):\n",
    "    module_db = pl.read_csv(str(files[r]), sep='\\t')\n",
    "    if 'Weight' in list(module_db.columns):\n",
    "        module_db = module_db.with_columns((pl.col('Weight').str.replace(',','.')))\n",
    "    module_db = (\n",
    "        module_db\n",
    "        .pipe(\n",
    "        lambda df:df.rename({oldCol:oldCol.lower().replace(' ','_') for oldCol in df.columns}))\n",
    "        .to_pandas()\n",
    "    )\n",
    "    db.append(module_db)\n"
   ]
  },
  {
   "attachments": {},
   "cell_type": "markdown",
   "metadata": {},
   "source": [
    "Clearing output"
   ]
  },
  {
   "cell_type": "code",
   "execution_count": 7,
   "metadata": {},
   "outputs": [],
   "source": [
    "import shutil\n",
    "if output.exists():\n",
    "    shutil.rmtree(output)\n",
    "output.mkdir()"
   ]
  },
  {
   "attachments": {},
   "cell_type": "markdown",
   "metadata": {},
   "source": [
    "Creating sqlite database"
   ]
  },
  {
   "cell_type": "code",
   "execution_count": 8,
   "metadata": {},
   "outputs": [],
   "source": [
    "sqlite_db_path = output / sqlite_db_name\n",
    "sqlite_con = sqlite3.connect(sqlite_db_path)\n",
    "\n",
    "for m in range(3):\n",
    "    db[m].to_sql(table_name[m], sqlite_con, if_exists='replace')\n"
   ]
  },
  {
   "cell_type": "code",
   "execution_count": 10,
   "metadata": {},
   "outputs": [],
   "source": [
    "sqlite_con.close()"
   ]
  }
 ],
 "metadata": {
  "kernelspec": {
   "display_name": "py39",
   "language": "python",
   "name": "python3"
  },
  "language_info": {
   "codemirror_mode": {
    "name": "ipython",
    "version": 3
   },
   "file_extension": ".py",
   "mimetype": "text/x-python",
   "name": "python",
   "nbconvert_exporter": "python",
   "pygments_lexer": "ipython3",
   "version": "3.9.13"
  },
  "orig_nbformat": 4,
  "vscode": {
   "interpreter": {
    "hash": "fb10130602bb05aefc1715443c69216395f3a51f9dbcef2ac8453c6b338625f2"
   }
  }
 },
 "nbformat": 4,
 "nbformat_minor": 2
}
